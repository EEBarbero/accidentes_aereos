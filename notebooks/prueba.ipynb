{
 "cells": [
  {
   "cell_type": "code",
   "execution_count": 1,
   "metadata": {},
   "outputs": [],
   "source": [
    "import numpy as np\n",
    "import pandas as pd\n",
    "import ast"
   ]
  },
  {
   "cell_type": "code",
   "execution_count": 417,
   "metadata": {},
   "outputs": [],
   "source": [
    "df_a = pd.read_csv(r\"../data/australian_user_reviews.csv\")"
   ]
  },
  {
   "cell_type": "code",
   "execution_count": 418,
   "metadata": {},
   "outputs": [],
   "source": [
    "df_a.to_csv(\"../data/australian_user_reviews.csv\", index=False)"
   ]
  },
  {
   "cell_type": "code",
   "execution_count": 419,
   "metadata": {},
   "outputs": [
    {
     "ename": "NameError",
     "evalue": "name 'df_DB' is not defined",
     "output_type": "error",
     "traceback": [
      "\u001b[1;31m---------------------------------------------------------------------------\u001b[0m",
      "\u001b[1;31mNameError\u001b[0m                                 Traceback (most recent call last)",
      "\u001b[1;32md:\\Henry\\Labs\\P1\\Desarrollo\\bin\\prueba.ipynb Celda 4\u001b[0m line \u001b[0;36m2\n\u001b[0;32m      <a href='vscode-notebook-cell:/d%3A/Henry/Labs/P1/Desarrollo/bin/prueba.ipynb#W3sZmlsZQ%3D%3D?line=0'>1</a>\u001b[0m \u001b[39m#########################\u001b[39;00m\n\u001b[1;32m----> <a href='vscode-notebook-cell:/d%3A/Henry/Labs/P1/Desarrollo/bin/prueba.ipynb#W3sZmlsZQ%3D%3D?line=1'>2</a>\u001b[0m \u001b[39mprint\u001b[39m(\u001b[39m\"\u001b[39m\u001b[39mstrategy\u001b[39m\u001b[39m\"\u001b[39m\u001b[39m.\u001b[39mstrip()\u001b[39m.\u001b[39mlower() \u001b[39min\u001b[39;00m \u001b[39mlist\u001b[39m(df_DB[\u001b[39m\"\u001b[39m\u001b[39mgenres\u001b[39m\u001b[39m\"\u001b[39m][\u001b[39m1\u001b[39m]\u001b[39m.\u001b[39msplit(\u001b[39m\"\u001b[39m\u001b[39m,\u001b[39m\u001b[39m\"\u001b[39m)))\n\u001b[0;32m      <a href='vscode-notebook-cell:/d%3A/Henry/Labs/P1/Desarrollo/bin/prueba.ipynb#W3sZmlsZQ%3D%3D?line=2'>3</a>\u001b[0m genero \u001b[39m=\u001b[39m \u001b[39m\"\u001b[39m\u001b[39maction\u001b[39m\u001b[39m\"\u001b[39m\n\u001b[0;32m      <a href='vscode-notebook-cell:/d%3A/Henry/Labs/P1/Desarrollo/bin/prueba.ipynb#W3sZmlsZQ%3D%3D?line=3'>4</a>\u001b[0m \u001b[39mdef\u001b[39;00m \u001b[39mesgenero\u001b[39m(buscado, lista):\n",
      "\u001b[1;31mNameError\u001b[0m: name 'df_DB' is not defined"
     ]
    }
   ],
   "source": [
    "#########################\n",
    "print(\"strategy\".strip().lower() in list(df_DB[\"genres\"][1].split(\",\")))\n",
    "genero = \"action\"\n",
    "def esgenero(buscado, lista):\n",
    "    if buscado.strip().lower() in list(lista.split(\",\")):\n",
    "        retorno = True\n",
    "    else:\n",
    "        retorno = False\n",
    "    return retorno                         \n",
    "\n",
    "filtro = df_DB[\"genres\"].apply(lambda x: esgenero(genero,x))\n",
    "df_DB[filtro][:5]"
   ]
  },
  {
   "cell_type": "code",
   "execution_count": null,
   "metadata": {},
   "outputs": [
    {
     "name": "stderr",
     "output_type": "stream",
     "text": [
      "C:\\Users\\Usuario\\AppData\\Local\\Temp\\ipykernel_12864\\237117272.py:7: FutureWarning: The 'axis' keyword in DataFrame.groupby is deprecated and will be removed in a future version.\n",
      "  df_PlayTimeGenre = pd.merge(df_items, df_users, left_on=\"item_id\",right_on=\"item_id\").groupby([\"genres\",\"anio_lanzamiento\"], axis=False)[[\"playtime_forever\"]].sum().reset_index()\n"
     ]
    }
   ],
   "source": [
    "df_reviews = pd.DataFrame(pd.read_csv(r\"../data/aur_api.csv\"))\n",
    "df_users = pd.DataFrame(pd.read_csv(r\"../data/aui_api.csv\"))\n",
    "df_items = pd.DataFrame(pd.read_csv(r\"../data/osg_api.csv\"))\n",
    "df_items_users = pd.merge(df_items, df_users, left_on=\"item_id\",right_on=\"item_id\")\n",
    "df_users_items = pd.merge(df_users, df_items, left_on=\"item_id\",right_on=\"item_id\")\n",
    "\n",
    "df_PlayTimeGenre = (pd.merge(df_items, df_users, left_on=\"item_id\",right_on=\"item_id\").groupby([\"genres\",\"anio_lanzamiento\"], axis=False)[[\"playtime_forever\"]].sum().reset_index())"
   ]
  },
  {
   "cell_type": "code",
   "execution_count": null,
   "metadata": {},
   "outputs": [
    {
     "name": "stderr",
     "output_type": "stream",
     "text": [
      "C:\\Users\\Usuario\\AppData\\Local\\Temp\\ipykernel_12864\\206151388.py:10: FutureWarning: The 'axis' keyword in DataFrame.groupby is deprecated and will be removed in a future version.\n",
      "  df_PlayTimeGenre = (df_items_users.groupby([\"genres\",\"anio_lanzamiento\"], axis=False)[[\"playtime_forever\"]].sum())\n"
     ]
    }
   ],
   "source": [
    "def filtroGenero(buscado, lista):\n",
    "    if buscado.strip().lower() in list(str(lista).split(\",\")):\n",
    "        retorno = True\n",
    "    else:\n",
    "        retorno = False\n",
    "    return retorno\n",
    "\n",
    "genero = \"action\" ### OJO\n",
    "#df_PlayTimeGenre = (df_users_items.groupby([\"anio_lanzamiento\"], axis=False)[[\"genres\",\"playtime_forever\"]].sum())\n",
    "df_PlayTimeGenre = (df_items_users.groupby([\"genres\",\"anio_lanzamiento\"], axis=False)[[\"playtime_forever\"]].sum())\n",
    "#df_genre.groupby(\"release_year\").sum()[\"playtime_forever\"]\n",
    "#resultado = df_users_items.groupby([\"anio_lanzamiento\"])\n"
   ]
  },
  {
   "cell_type": "code",
   "execution_count": null,
   "metadata": {},
   "outputs": [],
   "source": [
    "df_PlayTimeGenre = df_PlayTimeGenre"
   ]
  },
  {
   "cell_type": "code",
   "execution_count": null,
   "metadata": {},
   "outputs": [],
   "source": [
    "genero= \"free to play\"\n",
    "filtro = df_PlayTimeGenre[\"genres\"].apply(lambda x: filtroGenero(genero,x))\n",
    "Resul= df_PlayTimeGenre[filtro].sort_values(by=\"playtime_forever\", ascending=False)"
   ]
  },
  {
   "cell_type": "code",
   "execution_count": null,
   "metadata": {},
   "outputs": [],
   "source": [
    "Resul = Resul.groupby([\"anio_lanzamiento\"]).sum()[[\"playtime_forever\"]].sort_values(by=\"playtime_forever\", ascending=False).reset_index()"
   ]
  },
  {
   "cell_type": "code",
   "execution_count": null,
   "metadata": {},
   "outputs": [
    {
     "name": "stdout",
     "output_type": "stream",
     "text": [
      "0    2013\n",
      "Name: anio_lanzamiento, dtype: int64\n",
      "0    4204745\n",
      "Name: playtime_forever, dtype: int64\n"
     ]
    }
   ],
   "source": [
    "print(Resul.iloc[[0]][\"anio_lanzamiento\"])\n",
    "print(Resul.iloc[[0]][\"playtime_forever\"])"
   ]
  },
  {
   "cell_type": "code",
   "execution_count": null,
   "metadata": {},
   "outputs": [
    {
     "name": "stdout",
     "output_type": "stream",
     "text": [
      "Año de lanzamiento con más horas jugadas para Género Action 2012\n"
     ]
    },
    {
     "name": "stderr",
     "output_type": "stream",
     "text": [
      "C:\\Users\\Usuario\\AppData\\Local\\Temp\\ipykernel_12864\\4078607364.py:9: FutureWarning: Calling int on a single element Series is deprecated and will raise a TypeError in the future. Use int(ser.iloc[0]) instead\n",
      "  anio = int(resultado.iloc[[0]][\"anio_lanzamiento\"])\n"
     ]
    }
   ],
   "source": [
    "genero = \"action\"\n",
    "\n",
    "#filtro = df_PlayTimeGenre[\"genres\"].apply(lambda x: filtroGenero(genero,x))\n",
    "filtro = df_PlayTimeGenre[\"genres\"].apply(lambda x: True if genero.strip().lower() in list(str(x).split(\",\")) else False)\n",
    "#    filtro = df_PlayTimeGenre[\"genres\"].apply(lambda x: True if str(x).find(genero.strip().lower()) else False)\n",
    "resultado = (df_PlayTimeGenre[filtro].sort_values(by=\"playtime_forever\", ascending=False).\n",
    "                groupby([\"anio_lanzamiento\"]).sum()[[\"playtime_forever\"]].sort_values(by=\"playtime_forever\", ascending=False).\n",
    "                reset_index())\n",
    "anio = int(resultado.iloc[[0]][\"anio_lanzamiento\"])\n",
    "\n",
    "print(f\"Año de lanzamiento con más horas jugadas para Género {genero.title()}\", anio)"
   ]
  },
  {
   "cell_type": "code",
   "execution_count": null,
   "metadata": {},
   "outputs": [],
   "source": [
    "#################################"
   ]
  },
  {
   "cell_type": "code",
   "execution_count": null,
   "metadata": {},
   "outputs": [],
   "source": [
    "df_UsersItems = (pd.merge(df_users, df_items, left_on=\"item_id\",right_on=\"item_id\")[[\"user_id\",\"genres\",\"anio_lanzamiento\",\"playtime_forever\"]])"
   ]
  },
  {
   "cell_type": "code",
   "execution_count": 420,
   "metadata": {},
   "outputs": [],
   "source": [
    "genero = \"Indie\""
   ]
  },
  {
   "cell_type": "code",
   "execution_count": 421,
   "metadata": {},
   "outputs": [
    {
     "name": "stderr",
     "output_type": "stream",
     "text": [
      "C:\\Users\\Usuario\\AppData\\Local\\Temp\\ipykernel_12864\\1458960013.py:2: FutureWarning: The 'axis' keyword in DataFrame.groupby is deprecated and will be removed in a future version.\n",
      "  usuario = df_UsersItems[filtro].groupby([\"user_id\"], axis=False)[[\"playtime_forever\"]].sum().reset_index().sort_values(by=\"playtime_forever\", ascending=False).iloc[0][\"user_id\"]\n"
     ]
    }
   ],
   "source": [
    "filtro = df_UsersItems[\"genres\"].apply(lambda x: True if genero.strip().lower() in list(str(x).split(\",\")) else False)\n",
    "usuario = df_UsersItems[filtro].groupby([\"user_id\"], axis=False)[[\"playtime_forever\"]].sum().reset_index().sort_values(by=\"playtime_forever\", ascending=False).iloc[0][\"user_id\"]"
   ]
  },
  {
   "cell_type": "code",
   "execution_count": 422,
   "metadata": {},
   "outputs": [
    {
     "data": {
      "text/plain": [
       "'76561198074259637'"
      ]
     },
     "execution_count": 422,
     "metadata": {},
     "output_type": "execute_result"
    }
   ],
   "source": [
    "usuario"
   ]
  },
  {
   "cell_type": "code",
   "execution_count": 425,
   "metadata": {},
   "outputs": [],
   "source": [
    "filtro = (df_UsersItems[\"genres\"].apply(lambda x: True if genero.strip().lower() in list(str(x).split(\",\")) else False)) & (df_UsersItems[\"user_id\"] == usuario)\n",
    "resultado = df_UsersItems[filtro].groupby([\"anio_lanzamiento\"])[[\"playtime_forever\"]].sum().reset_index().sort_values(by=\"playtime_forever\", ascending=False)"
   ]
  },
  {
   "cell_type": "code",
   "execution_count": 426,
   "metadata": {},
   "outputs": [
    {
     "data": {
      "text/html": [
       "<div>\n",
       "<style scoped>\n",
       "    .dataframe tbody tr th:only-of-type {\n",
       "        vertical-align: middle;\n",
       "    }\n",
       "\n",
       "    .dataframe tbody tr th {\n",
       "        vertical-align: top;\n",
       "    }\n",
       "\n",
       "    .dataframe thead th {\n",
       "        text-align: right;\n",
       "    }\n",
       "</style>\n",
       "<table border=\"1\" class=\"dataframe\">\n",
       "  <thead>\n",
       "    <tr style=\"text-align: right;\">\n",
       "      <th></th>\n",
       "      <th>anio_lanzamiento</th>\n",
       "      <th>playtime_forever</th>\n",
       "    </tr>\n",
       "  </thead>\n",
       "  <tbody>\n",
       "    <tr>\n",
       "      <th>0</th>\n",
       "      <td>2006</td>\n",
       "      <td>303466</td>\n",
       "    </tr>\n",
       "  </tbody>\n",
       "</table>\n",
       "</div>"
      ],
      "text/plain": [
       "   anio_lanzamiento  playtime_forever\n",
       "0              2006            303466"
      ]
     },
     "execution_count": 426,
     "metadata": {},
     "output_type": "execute_result"
    }
   ],
   "source": [
    "resultado"
   ]
  },
  {
   "cell_type": "code",
   "execution_count": null,
   "metadata": {},
   "outputs": [
    {
     "ename": "ValueError",
     "evalue": "Can only compare identically-labeled Series objects",
     "output_type": "error",
     "traceback": [
      "\u001b[1;31m---------------------------------------------------------------------------\u001b[0m",
      "\u001b[1;31mValueError\u001b[0m                                Traceback (most recent call last)",
      "\u001b[1;32md:\\Henry\\Labs\\P1\\Desarrollo\\bin\\prueba.ipynb Celda 15\u001b[0m line \u001b[0;36m2\n\u001b[0;32m      <a href='vscode-notebook-cell:/d%3A/Henry/Labs/P1/Desarrollo/bin/prueba.ipynb#X25sZmlsZQ%3D%3D?line=0'>1</a>\u001b[0m \u001b[39m#filtro2 = \u001b[39;00m\n\u001b[1;32m----> <a href='vscode-notebook-cell:/d%3A/Henry/Labs/P1/Desarrollo/bin/prueba.ipynb#X25sZmlsZQ%3D%3D?line=1'>2</a>\u001b[0m resultadoDesagregado \u001b[39m=\u001b[39m (df_UserForGenre[filtro][df_UserForGenre[filtro][\u001b[39m\"\u001b[39;49m\u001b[39muser_id\u001b[39;49m\u001b[39m\"\u001b[39;49m] \u001b[39m==\u001b[39;49m resultado\u001b[39m.\u001b[39;49miloc[[\u001b[39m0\u001b[39;49m]][\u001b[39m'\u001b[39;49m\u001b[39muser_id\u001b[39;49m\u001b[39m'\u001b[39;49m]]\u001b[39m.\u001b[39mgroupby([\u001b[39m\"\u001b[39m\u001b[39manio_lanzamiento\u001b[39m\u001b[39m\"\u001b[39m])\u001b[39m.\u001b[39msum()[[\u001b[39m\"\u001b[39m\u001b[39mplaytime_forever\u001b[39m\u001b[39m\"\u001b[39m]]\u001b[39m.\u001b[39m\n\u001b[0;32m      <a href='vscode-notebook-cell:/d%3A/Henry/Labs/P1/Desarrollo/bin/prueba.ipynb#X25sZmlsZQ%3D%3D?line=2'>3</a>\u001b[0m                 sort_values(by\u001b[39m=\u001b[39m\u001b[39m\"\u001b[39m\u001b[39mplaytime_forever\u001b[39m\u001b[39m\"\u001b[39m, ascending\u001b[39m=\u001b[39m\u001b[39mFalse\u001b[39;00m)\u001b[39m.\u001b[39mreset_index())\n\u001b[0;32m      <a href='vscode-notebook-cell:/d%3A/Henry/Labs/P1/Desarrollo/bin/prueba.ipynb#X25sZmlsZQ%3D%3D?line=3'>4</a>\u001b[0m resultado\n",
      "File \u001b[1;32m~\\AppData\\Local\\Packages\\PythonSoftwareFoundation.Python.3.11_qbz5n2kfra8p0\\LocalCache\\local-packages\\Python311\\site-packages\\pandas\\core\\ops\\common.py:76\u001b[0m, in \u001b[0;36m_unpack_zerodim_and_defer.<locals>.new_method\u001b[1;34m(self, other)\u001b[0m\n\u001b[0;32m     72\u001b[0m             \u001b[39mreturn\u001b[39;00m \u001b[39mNotImplemented\u001b[39m\n\u001b[0;32m     74\u001b[0m other \u001b[39m=\u001b[39m item_from_zerodim(other)\n\u001b[1;32m---> 76\u001b[0m \u001b[39mreturn\u001b[39;00m method(\u001b[39mself\u001b[39;49m, other)\n",
      "File \u001b[1;32m~\\AppData\\Local\\Packages\\PythonSoftwareFoundation.Python.3.11_qbz5n2kfra8p0\\LocalCache\\local-packages\\Python311\\site-packages\\pandas\\core\\arraylike.py:40\u001b[0m, in \u001b[0;36mOpsMixin.__eq__\u001b[1;34m(self, other)\u001b[0m\n\u001b[0;32m     38\u001b[0m \u001b[39m@unpack_zerodim_and_defer\u001b[39m(\u001b[39m\"\u001b[39m\u001b[39m__eq__\u001b[39m\u001b[39m\"\u001b[39m)\n\u001b[0;32m     39\u001b[0m \u001b[39mdef\u001b[39;00m \u001b[39m__eq__\u001b[39m(\u001b[39mself\u001b[39m, other):\n\u001b[1;32m---> 40\u001b[0m     \u001b[39mreturn\u001b[39;00m \u001b[39mself\u001b[39;49m\u001b[39m.\u001b[39;49m_cmp_method(other, operator\u001b[39m.\u001b[39;49meq)\n",
      "File \u001b[1;32m~\\AppData\\Local\\Packages\\PythonSoftwareFoundation.Python.3.11_qbz5n2kfra8p0\\LocalCache\\local-packages\\Python311\\site-packages\\pandas\\core\\series.py:5799\u001b[0m, in \u001b[0;36mSeries._cmp_method\u001b[1;34m(self, other, op)\u001b[0m\n\u001b[0;32m   5796\u001b[0m res_name \u001b[39m=\u001b[39m ops\u001b[39m.\u001b[39mget_op_result_name(\u001b[39mself\u001b[39m, other)\n\u001b[0;32m   5798\u001b[0m \u001b[39mif\u001b[39;00m \u001b[39misinstance\u001b[39m(other, Series) \u001b[39mand\u001b[39;00m \u001b[39mnot\u001b[39;00m \u001b[39mself\u001b[39m\u001b[39m.\u001b[39m_indexed_same(other):\n\u001b[1;32m-> 5799\u001b[0m     \u001b[39mraise\u001b[39;00m \u001b[39mValueError\u001b[39;00m(\u001b[39m\"\u001b[39m\u001b[39mCan only compare identically-labeled Series objects\u001b[39m\u001b[39m\"\u001b[39m)\n\u001b[0;32m   5801\u001b[0m lvalues \u001b[39m=\u001b[39m \u001b[39mself\u001b[39m\u001b[39m.\u001b[39m_values\n\u001b[0;32m   5802\u001b[0m rvalues \u001b[39m=\u001b[39m extract_array(other, extract_numpy\u001b[39m=\u001b[39m\u001b[39mTrue\u001b[39;00m, extract_range\u001b[39m=\u001b[39m\u001b[39mTrue\u001b[39;00m)\n",
      "\u001b[1;31mValueError\u001b[0m: Can only compare identically-labeled Series objects"
     ]
    }
   ],
   "source": [
    "#filtro2 = \n",
    "resultadoDesagregado = (df_UsersItems[filtro].groupby([\"user_id\"]).sum()[[\"playtime_forever\"]].\n",
    "                sort_values(by=\"playtime_forever\", ascending=False).reset_index())\n",
    "resultado"
   ]
  },
  {
   "cell_type": "code",
   "execution_count": null,
   "metadata": {},
   "outputs": [
    {
     "name": "stdout",
     "output_type": "stream",
     "text": [
      "Usuario con más horas jugadas para Género Free To Play: 0    76561198066412851\n",
      "Name: user_id, dtype: object. Cantidad de horas jugadas: 234.315\n"
     ]
    },
    {
     "name": "stderr",
     "output_type": "stream",
     "text": [
      "C:\\Users\\Usuario\\AppData\\Local\\Temp\\ipykernel_12864\\1136691305.py:4: FutureWarning: Calling int on a single element Series is deprecated and will raise a TypeError in the future. Use int(ser.iloc[0]) instead\n",
      "  print(f\"Usuario con más horas jugadas para Género {genero.title()}: {resultado.iloc[[0]]['user_id']}. Cantidad de horas jugadas: {format(int(resultado.iloc[[0]]['playtime_forever']), ',d').replace(',','.')}\")\n"
     ]
    }
   ],
   "source": [
    "if resultado.empty:\n",
    "    print(\"Error\",f\"No se disponen datos para el Género {genero.title()}. Por favor compuebe si no hay errores de tipeo.\")\n",
    "else:\n",
    "    print(f\"Usuario con más horas jugadas para Género {genero.title()}: {resultado.iloc[[0]]['user_id']}. Cantidad de horas jugadas: {format(int(resultado.iloc[[0]]['playtime_forever']), ',d').replace(',','.')}\")"
   ]
  },
  {
   "cell_type": "code",
   "execution_count": null,
   "metadata": {},
   "outputs": [],
   "source": [
    "######################"
   ]
  },
  {
   "cell_type": "code",
   "execution_count": 2,
   "metadata": {},
   "outputs": [],
   "source": [
    "# Cargo los archivos de datos\n",
    "df_reviews = pd.DataFrame(pd.read_csv(r\"../data/aur_api.csv\"))\n",
    "df_items = pd.DataFrame(pd.read_csv(r\"../data/osg_api.csv\"))"
   ]
  },
  {
   "cell_type": "code",
   "execution_count": 120,
   "metadata": {},
   "outputs": [],
   "source": [
    "# Hago los merge para que trabajen las funciones\n",
    "df_ReviewsItems = (df_reviews.merge(df_items, left_on=\"item_id\", right_on= \"item_id\")[[\"anio_post\", \"recommend\", \"sentiment_analysis\", \"item_id\", \"title\", \"anio_lanzamiento\"]])"
   ]
  },
  {
   "cell_type": "code",
   "execution_count": 23,
   "metadata": {},
   "outputs": [
    {
     "data": {
      "text/html": [
       "<div>\n",
       "<style scoped>\n",
       "    .dataframe tbody tr th:only-of-type {\n",
       "        vertical-align: middle;\n",
       "    }\n",
       "\n",
       "    .dataframe tbody tr th {\n",
       "        vertical-align: top;\n",
       "    }\n",
       "\n",
       "    .dataframe thead th {\n",
       "        text-align: right;\n",
       "    }\n",
       "</style>\n",
       "<table border=\"1\" class=\"dataframe\">\n",
       "  <thead>\n",
       "    <tr style=\"text-align: right;\">\n",
       "      <th></th>\n",
       "      <th>index</th>\n",
       "      <th>anio_post</th>\n",
       "      <th>recommend</th>\n",
       "      <th>sentiment_analysis</th>\n",
       "      <th>item_id</th>\n",
       "      <th>title</th>\n",
       "    </tr>\n",
       "  </thead>\n",
       "  <tbody>\n",
       "    <tr>\n",
       "      <th>42225</th>\n",
       "      <td>42225</td>\n",
       "      <td>2015</td>\n",
       "      <td>True</td>\n",
       "      <td>2</td>\n",
       "      <td>311210</td>\n",
       "      <td>Call of Duty®: Black Ops III</td>\n",
       "    </tr>\n",
       "    <tr>\n",
       "      <th>28404</th>\n",
       "      <td>28404</td>\n",
       "      <td>2014</td>\n",
       "      <td>False</td>\n",
       "      <td>0</td>\n",
       "      <td>301520</td>\n",
       "      <td>Robocraft</td>\n",
       "    </tr>\n",
       "    <tr>\n",
       "      <th>27634</th>\n",
       "      <td>27634</td>\n",
       "      <td>2014</td>\n",
       "      <td>True</td>\n",
       "      <td>1</td>\n",
       "      <td>362890</td>\n",
       "      <td>Black Mesa</td>\n",
       "    </tr>\n",
       "    <tr>\n",
       "      <th>17603</th>\n",
       "      <td>17603</td>\n",
       "      <td>2014</td>\n",
       "      <td>True</td>\n",
       "      <td>2</td>\n",
       "      <td>33930</td>\n",
       "      <td>Arma 2: Operation Arrowhead</td>\n",
       "    </tr>\n",
       "    <tr>\n",
       "      <th>32476</th>\n",
       "      <td>32476</td>\n",
       "      <td>2015</td>\n",
       "      <td>False</td>\n",
       "      <td>1</td>\n",
       "      <td>265750</td>\n",
       "      <td>Secret Ponchos</td>\n",
       "    </tr>\n",
       "    <tr>\n",
       "      <th>52369</th>\n",
       "      <td>52369</td>\n",
       "      <td>2013</td>\n",
       "      <td>False</td>\n",
       "      <td>2</td>\n",
       "      <td>301120</td>\n",
       "      <td>Eastside Hockey Manager</td>\n",
       "    </tr>\n",
       "    <tr>\n",
       "      <th>24016</th>\n",
       "      <td>24016</td>\n",
       "      <td>2014</td>\n",
       "      <td>True</td>\n",
       "      <td>2</td>\n",
       "      <td>274940</td>\n",
       "      <td>Depth</td>\n",
       "    </tr>\n",
       "    <tr>\n",
       "      <th>13077</th>\n",
       "      <td>13077</td>\n",
       "      <td>2015</td>\n",
       "      <td>True</td>\n",
       "      <td>2</td>\n",
       "      <td>4000</td>\n",
       "      <td>Garry's Mod</td>\n",
       "    </tr>\n",
       "    <tr>\n",
       "      <th>5073</th>\n",
       "      <td>5073</td>\n",
       "      <td>2015</td>\n",
       "      <td>True</td>\n",
       "      <td>1</td>\n",
       "      <td>730</td>\n",
       "      <td>Counter-Strike: Global Offensive</td>\n",
       "    </tr>\n",
       "    <tr>\n",
       "      <th>14900</th>\n",
       "      <td>14900</td>\n",
       "      <td>2014</td>\n",
       "      <td>True</td>\n",
       "      <td>2</td>\n",
       "      <td>570</td>\n",
       "      <td>Dota 2</td>\n",
       "    </tr>\n",
       "  </tbody>\n",
       "</table>\n",
       "</div>"
      ],
      "text/plain": [
       "       index  anio_post  recommend  sentiment_analysis  item_id  \\\n",
       "42225  42225       2015       True                   2   311210   \n",
       "28404  28404       2014      False                   0   301520   \n",
       "27634  27634       2014       True                   1   362890   \n",
       "17603  17603       2014       True                   2    33930   \n",
       "32476  32476       2015      False                   1   265750   \n",
       "52369  52369       2013      False                   2   301120   \n",
       "24016  24016       2014       True                   2   274940   \n",
       "13077  13077       2015       True                   2     4000   \n",
       "5073    5073       2015       True                   1      730   \n",
       "14900  14900       2014       True                   2      570   \n",
       "\n",
       "                                  title  \n",
       "42225      Call of Duty®: Black Ops III  \n",
       "28404                         Robocraft  \n",
       "27634                        Black Mesa  \n",
       "17603       Arma 2: Operation Arrowhead  \n",
       "32476                    Secret Ponchos  \n",
       "52369           Eastside Hockey Manager  \n",
       "24016                             Depth  \n",
       "13077                       Garry's Mod  \n",
       "5073   Counter-Strike: Global Offensive  \n",
       "14900                            Dota 2  "
      ]
     },
     "execution_count": 23,
     "metadata": {},
     "output_type": "execute_result"
    }
   ],
   "source": [
    "df_ReviewsItems.sample(10)"
   ]
  },
  {
   "cell_type": "code",
   "execution_count": 32,
   "metadata": {},
   "outputs": [
    {
     "data": {
      "text/plain": [
       "numpy.int64"
      ]
     },
     "execution_count": 32,
     "metadata": {},
     "output_type": "execute_result"
    }
   ],
   "source": [
    "type(df_ReviewsItems.iloc[1] [\"anio_post\"])"
   ]
  },
  {
   "cell_type": "code",
   "execution_count": 91,
   "metadata": {},
   "outputs": [],
   "source": [
    "def UsersRecommend(anio: int):\n",
    "    filtro = ((df_ReviewsItems[\"anio_post\"] == anio) & (df_ReviewsItems[\"recommend\"] == True) & ((df_ReviewsItems[\"sentiment_analysis\"] == 1) | (df_ReviewsItems[\"sentiment_analysis\"] == 2)))\n",
    "    #Obtengo la colsulta y lo agrupo por año de post\n",
    "    resultado = df_ReviewsItems[filtro].groupby([\"item_id\", \"title\"]).count()[[\"recommend\"]].reset_index().sort_values(\"recommend\", ascending=False).reset_index().drop(\"index\", axis=1)\n",
    "    if resultado.empty:\n",
    "        retorno = {\"Error\":f\"No se dispone de datos para el Año {anio}.\"}\n",
    "    else:\n",
    "        # Preparo la salida a retornar\n",
    "        #retorno = {f\"Los 3 juegos más recomendados para el año {anio}\": [{f\"Puesto {i+1}\": {\"Identificador del Juego\": resultado[\"item_id\"][i],\"Título\":resultado[\"title\"][i]}} for i in range(min(3,len(resultado.index)))]}\n",
    "        vector = []\n",
    "        for i in range(min(3,len(resultado.index))):\n",
    "            vector.append({f\"Puesto {i+1}\": resultado[\"title\"][i]})\n",
    "        retorno = {f\"Los 3 juegos más recomendados para el año {anio}\":vector}\n",
    "    return {f\"Los 3 juegos más recomendados para el año {anio}\":vector}\n",
    "\n",
    "    #retorno = {f\"Los 3 juegos más recomendados para el año {anio}\": [{f\"Puesto {i+1}\": {\"Identificador del Juego\": resultado[\"item_id\"][i],\"Título\":resultado[\"title\"][i]}} for i in range(min(3,len(resultado.index)))]}\n",
    "    #return retorno"
   ]
  },
  {
   "cell_type": "code",
   "execution_count": 81,
   "metadata": {},
   "outputs": [
    {
     "data": {
      "text/plain": [
       "{'Los 3 juegos más recomendados para el año 2015': [{'Puesto 1': 'Counter-Strike: Global Offensive'},\n",
       "  {'Puesto 2': 'Team Fortress 2'},\n",
       "  {'Puesto 3': \"Garry's Mod\"}]}"
      ]
     },
     "execution_count": 81,
     "metadata": {},
     "output_type": "execute_result"
    }
   ],
   "source": [
    "anio = 2015\n",
    "\n",
    "UsersRecommend(anio)"
   ]
  },
  {
   "cell_type": "code",
   "execution_count": null,
   "metadata": {},
   "outputs": [],
   "source": [
    "#############################"
   ]
  },
  {
   "cell_type": "code",
   "execution_count": 139,
   "metadata": {},
   "outputs": [],
   "source": [
    "def sentiment_analysis(anio: int):\n",
    "    # Creo el filtro con el año pasado, recomendación en \"False\" y análisis de sentimientos negativos\n",
    "    filtro = (df_ReviewsItems[\"anio_lanzamiento\"] == anio)\n",
    "    #Obtengo la colsulta y lo agrupo por año de post\n",
    "    resultado = df_ReviewsItems[filtro].groupby([\"sentiment_analysis\"]).count()[[\"item_id\"]].reset_index().set_index(\"sentiment_analysis\")\n",
    "    if resultado.empty:\n",
    "        retorno = {\"Error\":f\"No se dispone de datos para el Año {anio}.\"}\n",
    "    else:\n",
    "        # Preparo la salida a retornar {Negative = 182, Neutral = 120, Positive = 278}\n",
    "        negativos = resultado.loc[0][\"item_id\"] if 0 in resultado.index else 0\n",
    "        neutros = resultado.loc[1][\"item_id\"] if 1 in resultado.index else 0\n",
    "        positivos = resultado.loc[2][\"item_id\"] if 2 in resultado.index else 0\n",
    "        retorno = {f\"Clasificación de comentarios para el año {anio}\":f\"Negativos: {negativos}, Neutrales: {neutros}, Positivos: {positivos}\"}\n",
    "        \n",
    "    return retorno"
   ]
  },
  {
   "cell_type": "code",
   "execution_count": 143,
   "metadata": {},
   "outputs": [
    {
     "data": {
      "text/plain": [
       "{'Clasificación de comentarios para el año 2013': 'Negativos: 1241, Neutrales: 3299, Positivos: 6081'}"
      ]
     },
     "execution_count": 143,
     "metadata": {},
     "output_type": "execute_result"
    }
   ],
   "source": [
    "anio = 2013\n",
    "\n",
    "sentiment_analysis(anio)"
   ]
  }
 ],
 "metadata": {
  "kernelspec": {
   "display_name": "Python 3",
   "language": "python",
   "name": "python3"
  },
  "language_info": {
   "codemirror_mode": {
    "name": "ipython",
    "version": 3
   },
   "file_extension": ".py",
   "mimetype": "text/x-python",
   "name": "python",
   "nbconvert_exporter": "python",
   "pygments_lexer": "ipython3",
   "version": "3.11.5"
  },
  "orig_nbformat": 4
 },
 "nbformat": 4,
 "nbformat_minor": 2
}
